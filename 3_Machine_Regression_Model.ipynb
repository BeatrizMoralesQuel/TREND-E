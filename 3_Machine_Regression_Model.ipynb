{
 "cells": [
  {
   "cell_type": "markdown",
   "id": "5a03e34b",
   "metadata": {},
   "source": [
    "## Import Libraries"
   ]
  },
  {
   "cell_type": "code",
   "execution_count": 161,
   "id": "00070f40",
   "metadata": {},
   "outputs": [],
   "source": [
    "import pandas as pd\n",
    "import numpy as np\n",
    "import matplotlib.pyplot as plt\n",
    "import seaborn as sns \n",
    "\n",
    "from sklearn.preprocessing import MinMaxScaler\n",
    "from sklearn.preprocessing import StandardScaler\n",
    "from sklearn.preprocessing import OneHotEncoder\n",
    "from sklearn.model_selection import train_test_split\n",
    "import math\n",
    "\n",
    "from sklearn import linear_model\n",
    "from sklearn.tree import DecisionTreeRegressor\n",
    "from sklearn.linear_model import LinearRegression\n",
    "from sklearn.neighbors import KNeighborsRegressor\n",
    "\n",
    "from sklearn.preprocessing import StandardScaler\n",
    "from sklearn.model_selection import cross_val_score\n",
    "from sklearn.metrics import mean_squared_error, mean_absolute_error, r2_score\n",
    "\n",
    "import pickle"
   ]
  },
  {
   "cell_type": "code",
   "execution_count": 126,
   "id": "19f01675",
   "metadata": {},
   "outputs": [],
   "source": [
    "pd.set_option('display.max_columns', None)"
   ]
  },
  {
   "cell_type": "markdown",
   "id": "d58c643d",
   "metadata": {},
   "source": [
    " "
   ]
  },
  {
   "cell_type": "markdown",
   "id": "75750ef2",
   "metadata": {},
   "source": [
    "## Import Data"
   ]
  },
  {
   "cell_type": "code",
   "execution_count": 162,
   "id": "f5923575",
   "metadata": {},
   "outputs": [],
   "source": [
    "asos = pd.read_csv('data/asos_clean.csv')"
   ]
  },
  {
   "cell_type": "code",
   "execution_count": 163,
   "id": "8e09c78a",
   "metadata": {},
   "outputs": [
    {
     "data": {
      "text/html": [
       "<div>\n",
       "<style scoped>\n",
       "    .dataframe tbody tr th:only-of-type {\n",
       "        vertical-align: middle;\n",
       "    }\n",
       "\n",
       "    .dataframe tbody tr th {\n",
       "        vertical-align: top;\n",
       "    }\n",
       "\n",
       "    .dataframe thead th {\n",
       "        text-align: right;\n",
       "    }\n",
       "</style>\n",
       "<table border=\"1\" class=\"dataframe\">\n",
       "  <thead>\n",
       "    <tr style=\"text-align: right;\">\n",
       "      <th></th>\n",
       "      <th>name</th>\n",
       "      <th>price</th>\n",
       "      <th>#search</th>\n",
       "      <th>#brand</th>\n",
       "      <th>categories</th>\n",
       "      <th>#colour</th>\n",
       "      <th>#1</th>\n",
       "      <th>#1num</th>\n",
       "      <th>#2</th>\n",
       "      <th>#2num</th>\n",
       "      <th>potential_hashtag</th>\n",
       "    </tr>\n",
       "  </thead>\n",
       "  <tbody>\n",
       "    <tr>\n",
       "      <th>0</th>\n",
       "      <td>New Look trench coat in camel</td>\n",
       "      <td>49.99</td>\n",
       "      <td>coat</td>\n",
       "      <td>stradivarius</td>\n",
       "      <td>coats</td>\n",
       "      <td>beige</td>\n",
       "      <td>beigecoat</td>\n",
       "      <td>30000</td>\n",
       "      <td>stradivariuscoat</td>\n",
       "      <td>1600</td>\n",
       "      <td>31600</td>\n",
       "    </tr>\n",
       "    <tr>\n",
       "      <th>1</th>\n",
       "      <td>New Look trench coat in camel</td>\n",
       "      <td>49.99</td>\n",
       "      <td>coat</td>\n",
       "      <td>stradivarius</td>\n",
       "      <td>coats</td>\n",
       "      <td>beige</td>\n",
       "      <td>beigecoat</td>\n",
       "      <td>30000</td>\n",
       "      <td>stradivariuscoat</td>\n",
       "      <td>1600</td>\n",
       "      <td>31600</td>\n",
       "    </tr>\n",
       "    <tr>\n",
       "      <th>2</th>\n",
       "      <td>New Look trench coat in camel</td>\n",
       "      <td>49.99</td>\n",
       "      <td>coat</td>\n",
       "      <td>asos design</td>\n",
       "      <td>coats</td>\n",
       "      <td>beige</td>\n",
       "      <td>beigecoat</td>\n",
       "      <td>30000</td>\n",
       "      <td>asosdesigncoat</td>\n",
       "      <td>3</td>\n",
       "      <td>30003</td>\n",
       "    </tr>\n",
       "    <tr>\n",
       "      <th>3</th>\n",
       "      <td>New Look trench coat in camel</td>\n",
       "      <td>49.99</td>\n",
       "      <td>coat</td>\n",
       "      <td>new look</td>\n",
       "      <td>coats</td>\n",
       "      <td>beige</td>\n",
       "      <td>beigecoat</td>\n",
       "      <td>30000</td>\n",
       "      <td>newlookcoat</td>\n",
       "      <td>888</td>\n",
       "      <td>30888</td>\n",
       "    </tr>\n",
       "    <tr>\n",
       "      <th>4</th>\n",
       "      <td>Stradivarius double breasted wool coat in grey</td>\n",
       "      <td>59.99</td>\n",
       "      <td>coat</td>\n",
       "      <td>stradivarius</td>\n",
       "      <td>coats</td>\n",
       "      <td>grey</td>\n",
       "      <td>greycoat</td>\n",
       "      <td>36000</td>\n",
       "      <td>stradivariuscoat</td>\n",
       "      <td>1600</td>\n",
       "      <td>37600</td>\n",
       "    </tr>\n",
       "    <tr>\n",
       "      <th>...</th>\n",
       "      <td>...</td>\n",
       "      <td>...</td>\n",
       "      <td>...</td>\n",
       "      <td>...</td>\n",
       "      <td>...</td>\n",
       "      <td>...</td>\n",
       "      <td>...</td>\n",
       "      <td>...</td>\n",
       "      <td>...</td>\n",
       "      <td>...</td>\n",
       "      <td>...</td>\n",
       "    </tr>\n",
       "    <tr>\n",
       "      <th>29772</th>\n",
       "      <td>ASOS DESIGN satin midi dress with cowl neck an...</td>\n",
       "      <td>55.00</td>\n",
       "      <td>dress</td>\n",
       "      <td>asos design</td>\n",
       "      <td>dresses</td>\n",
       "      <td>brown</td>\n",
       "      <td>browndress</td>\n",
       "      <td>68000</td>\n",
       "      <td>asosdesigndress</td>\n",
       "      <td>53</td>\n",
       "      <td>68053</td>\n",
       "    </tr>\n",
       "    <tr>\n",
       "      <th>29773</th>\n",
       "      <td>Urban Revivo square neck mini dress in floral ...</td>\n",
       "      <td>44.00</td>\n",
       "      <td>minidress</td>\n",
       "      <td>urban revivo</td>\n",
       "      <td>dresses</td>\n",
       "      <td>pattern</td>\n",
       "      <td>patternminidress</td>\n",
       "      <td>8</td>\n",
       "      <td>urbanrevivominidress</td>\n",
       "      <td>0</td>\n",
       "      <td>8</td>\n",
       "    </tr>\n",
       "    <tr>\n",
       "      <th>29774</th>\n",
       "      <td>ASOS DESIGN long sleeve maxi t-shirt dress in ...</td>\n",
       "      <td>24.00</td>\n",
       "      <td>dress</td>\n",
       "      <td>asos design</td>\n",
       "      <td>dresses</td>\n",
       "      <td>black</td>\n",
       "      <td>blackdress</td>\n",
       "      <td>4900000</td>\n",
       "      <td>asosdesigndress</td>\n",
       "      <td>53</td>\n",
       "      <td>4900053</td>\n",
       "    </tr>\n",
       "    <tr>\n",
       "      <th>29775</th>\n",
       "      <td>ASYOU layered t-shirt dress with focus graphic...</td>\n",
       "      <td>22.99</td>\n",
       "      <td>dress</td>\n",
       "      <td>asyou</td>\n",
       "      <td>dresses</td>\n",
       "      <td>black</td>\n",
       "      <td>blackdress</td>\n",
       "      <td>4900000</td>\n",
       "      <td>asyoudress</td>\n",
       "      <td>9</td>\n",
       "      <td>4900009</td>\n",
       "    </tr>\n",
       "    <tr>\n",
       "      <th>29776</th>\n",
       "      <td>&amp; Other Stories plisse mesh midi dress in blac...</td>\n",
       "      <td>65.00</td>\n",
       "      <td>dress</td>\n",
       "      <td>other stories</td>\n",
       "      <td>dresses</td>\n",
       "      <td>black</td>\n",
       "      <td>blackdress</td>\n",
       "      <td>4900000</td>\n",
       "      <td>otherstoriesdress</td>\n",
       "      <td>849</td>\n",
       "      <td>4900849</td>\n",
       "    </tr>\n",
       "  </tbody>\n",
       "</table>\n",
       "<p>29777 rows × 11 columns</p>\n",
       "</div>"
      ],
      "text/plain": [
       "                                                    name  price    #search  \\\n",
       "0                          New Look trench coat in camel  49.99       coat   \n",
       "1                          New Look trench coat in camel  49.99       coat   \n",
       "2                          New Look trench coat in camel  49.99       coat   \n",
       "3                          New Look trench coat in camel  49.99       coat   \n",
       "4         Stradivarius double breasted wool coat in grey  59.99       coat   \n",
       "...                                                  ...    ...        ...   \n",
       "29772  ASOS DESIGN satin midi dress with cowl neck an...  55.00      dress   \n",
       "29773  Urban Revivo square neck mini dress in floral ...  44.00  minidress   \n",
       "29774  ASOS DESIGN long sleeve maxi t-shirt dress in ...  24.00      dress   \n",
       "29775  ASYOU layered t-shirt dress with focus graphic...  22.99      dress   \n",
       "29776  & Other Stories plisse mesh midi dress in blac...  65.00      dress   \n",
       "\n",
       "              #brand categories  #colour                #1    #1num  \\\n",
       "0       stradivarius      coats    beige         beigecoat    30000   \n",
       "1       stradivarius      coats    beige         beigecoat    30000   \n",
       "2        asos design      coats    beige         beigecoat    30000   \n",
       "3           new look      coats    beige         beigecoat    30000   \n",
       "4       stradivarius      coats     grey          greycoat    36000   \n",
       "...              ...        ...      ...               ...      ...   \n",
       "29772    asos design    dresses    brown        browndress    68000   \n",
       "29773   urban revivo    dresses  pattern  patternminidress        8   \n",
       "29774    asos design    dresses    black        blackdress  4900000   \n",
       "29775          asyou    dresses    black        blackdress  4900000   \n",
       "29776  other stories    dresses    black        blackdress  4900000   \n",
       "\n",
       "                         #2  #2num  potential_hashtag  \n",
       "0          stradivariuscoat   1600              31600  \n",
       "1          stradivariuscoat   1600              31600  \n",
       "2            asosdesigncoat      3              30003  \n",
       "3               newlookcoat    888              30888  \n",
       "4          stradivariuscoat   1600              37600  \n",
       "...                     ...    ...                ...  \n",
       "29772       asosdesigndress     53              68053  \n",
       "29773  urbanrevivominidress      0                  8  \n",
       "29774       asosdesigndress     53            4900053  \n",
       "29775            asyoudress      9            4900009  \n",
       "29776     otherstoriesdress    849            4900849  \n",
       "\n",
       "[29777 rows x 11 columns]"
      ]
     },
     "execution_count": 163,
     "metadata": {},
     "output_type": "execute_result"
    }
   ],
   "source": [
    "asos"
   ]
  },
  {
   "cell_type": "markdown",
   "id": "1a600c2c",
   "metadata": {},
   "source": [
    " "
   ]
  },
  {
   "cell_type": "markdown",
   "id": "32939c26",
   "metadata": {},
   "source": [
    "## EDA"
   ]
  },
  {
   "cell_type": "markdown",
   "id": "9b0d7d0a",
   "metadata": {},
   "source": [
    "### Dealing with Outliers"
   ]
  },
  {
   "cell_type": "code",
   "execution_count": 129,
   "id": "90117714",
   "metadata": {},
   "outputs": [],
   "source": [
    "#check for outliers."
   ]
  },
  {
   "cell_type": "code",
   "execution_count": 130,
   "id": "366242f1",
   "metadata": {},
   "outputs": [
    {
     "data": {
      "image/png": "[encoded data removed]",
      "text/plain": [
       "<Figure size 640x480 with 1 Axes>"
      ]
     },
     "metadata": {},
     "output_type": "display_data"
    }
   ],
   "source": [
    "sns.boxplot(x=asos['potential_hashtag'])\n",
    "plt.title('Asos Hashtag Distribution', fontsize=16)\n",
    "plt.show()"
   ]
  },
  {
   "cell_type": "markdown",
   "id": "f6b40989",
   "metadata": {},
   "source": [
    " "
   ]
  },
  {
   "cell_type": "markdown",
   "id": "5119dc20",
   "metadata": {},
   "source": [
    "*If the boxplot shows some extreme outliers, find the interquartile range and decide how to deal with them. The quartiles and IQR can be calculated as follows*"
   ]
  },
  {
   "cell_type": "code",
   "execution_count": 132,
   "id": "fb58701f",
   "metadata": {},
   "outputs": [
    {
     "data": {
      "text/plain": [
       "name                 6661\n",
       "price                6661\n",
       "#search              6661\n",
       "#brand               6661\n",
       "categories           6661\n",
       "#colour              6661\n",
       "#1                   6661\n",
       "#1num                6661\n",
       "#2                   6661\n",
       "#2num                6661\n",
       "potential_hashtag    6661\n",
       "dtype: int64"
      ]
     },
     "execution_count": 132,
     "metadata": {},
     "output_type": "execute_result"
    }
   ],
   "source": [
    "#IQR#\n",
    "\n",
    "asos[asos['potential_hashtag'] >np.quantile(asos['potential_hashtag'], q=0.75)].count()\n",
    "#q75\n"
   ]
  },
  {
   "cell_type": "markdown",
   "id": "6fa8ddde",
   "metadata": {},
   "source": [
    "I'm going to create a new colum with the potential hashtags above 65% quantile as 'High' (indicates the hashtags that are trendy) or 'Low' for the ones under (indicates the hashtags that are not very trendy). I will use this later for my recommender.\n"
   ]
  },
  {
   "cell_type": "code",
   "execution_count": 133,
   "id": "5531af04",
   "metadata": {},
   "outputs": [],
   "source": [
    "new_list = []\n",
    "\n",
    "for i in asos['potential_hashtag']:\n",
    "    if i >np.quantile(asos['potential_hashtag'], q=0.65):\n",
    "        new_list.append('High')\n",
    "    else:\n",
    "        new_list.append('Low')\n"
   ]
  },
  {
   "cell_type": "code",
   "execution_count": 134,
   "id": "67e7d46f",
   "metadata": {},
   "outputs": [],
   "source": [
    "asos['trendy'] = new_list #target for a classifier model"
   ]
  },
  {
   "cell_type": "code",
   "execution_count": 135,
   "id": "eb7035b4",
   "metadata": {},
   "outputs": [
    {
     "data": {
      "text/plain": [
       "5727.0"
      ]
     },
     "execution_count": 135,
     "metadata": {},
     "output_type": "execute_result"
    }
   ],
   "source": [
    "q25 = np.quantile(asos['potential_hashtag'], q=0.25)\n",
    "q25\n"
   ]
  },
  {
   "cell_type": "markdown",
   "id": "9825e94f",
   "metadata": {},
   "source": [
    "## Feature Selection"
   ]
  },
  {
   "cell_type": "markdown",
   "id": "7183da68",
   "metadata": {},
   "source": [
    "The idea of feature selection is that you don't have too much multicolinearity, which could **give the algorithm away to the model**. Generally, the rule is that anything above 0.85-0.90 will need to be extensively reviewed before feeding it into the model, and one of the offending columns dropped. "
   ]
  },
  {
   "cell_type": "markdown",
   "id": "76d14237",
   "metadata": {},
   "source": [
    " "
   ]
  },
  {
   "cell_type": "markdown",
   "id": "03608e98",
   "metadata": {},
   "source": [
    "### CASE: A lower number of columns"
   ]
  },
  {
   "cell_type": "code",
   "execution_count": 137,
   "id": "b2f03fc0",
   "metadata": {},
   "outputs": [
    {
     "name": "stderr",
     "output_type": "stream",
     "text": [
      "/var/folders/75/lxv2pt816y3g7mh_b0zy07mw0000gn/T/ipykernel_4983/2372417591.py:2: FutureWarning: The default value of numeric_only in DataFrame.corr is deprecated. In a future version, it will default to False. Select only valid columns or specify the value of numeric_only to silence this warning.\n",
      "  asos.corr()\n"
     ]
    },
    {
     "data": {
      "text/html": [
       "<div>\n",
       "<style scoped>\n",
       "    .dataframe tbody tr th:only-of-type {\n",
       "        vertical-align: middle;\n",
       "    }\n",
       "\n",
       "    .dataframe tbody tr th {\n",
       "        vertical-align: top;\n",
       "    }\n",
       "\n",
       "    .dataframe thead th {\n",
       "        text-align: right;\n",
       "    }\n",
       "</style>\n",
       "<table border=\"1\" class=\"dataframe\">\n",
       "  <thead>\n",
       "    <tr style=\"text-align: right;\">\n",
       "      <th></th>\n",
       "      <th>price</th>\n",
       "      <th>#1num</th>\n",
       "      <th>#2num</th>\n",
       "      <th>potential_hashtag</th>\n",
       "    </tr>\n",
       "  </thead>\n",
       "  <tbody>\n",
       "    <tr>\n",
       "      <th>price</th>\n",
       "      <td>1.000000</td>\n",
       "      <td>0.122991</td>\n",
       "      <td>0.077001</td>\n",
       "      <td>0.123327</td>\n",
       "    </tr>\n",
       "    <tr>\n",
       "      <th>#1num</th>\n",
       "      <td>0.122991</td>\n",
       "      <td>1.000000</td>\n",
       "      <td>0.083711</td>\n",
       "      <td>0.999987</td>\n",
       "    </tr>\n",
       "    <tr>\n",
       "      <th>#2num</th>\n",
       "      <td>0.077001</td>\n",
       "      <td>0.083711</td>\n",
       "      <td>1.000000</td>\n",
       "      <td>0.088734</td>\n",
       "    </tr>\n",
       "    <tr>\n",
       "      <th>potential_hashtag</th>\n",
       "      <td>0.123327</td>\n",
       "      <td>0.999987</td>\n",
       "      <td>0.088734</td>\n",
       "      <td>1.000000</td>\n",
       "    </tr>\n",
       "  </tbody>\n",
       "</table>\n",
       "</div>"
      ],
      "text/plain": [
       "                      price     #1num     #2num  potential_hashtag\n",
       "price              1.000000  0.122991  0.077001           0.123327\n",
       "#1num              0.122991  1.000000  0.083711           0.999987\n",
       "#2num              0.077001  0.083711  1.000000           0.088734\n",
       "potential_hashtag  0.123327  0.999987  0.088734           1.000000"
      ]
     },
     "execution_count": 137,
     "metadata": {},
     "output_type": "execute_result"
    }
   ],
   "source": [
    "#to check the correlation\n",
    "asos.corr()"
   ]
  },
  {
   "cell_type": "code",
   "execution_count": 138,
   "id": "68966409",
   "metadata": {},
   "outputs": [],
   "source": [
    "asos = asos.loc[asos['#search'].isin(list(asos['#search'].value_counts()[asos['#search'].value_counts() >10].index))]\n"
   ]
  },
  {
   "cell_type": "code",
   "execution_count": 139,
   "id": "fde543d3",
   "metadata": {},
   "outputs": [],
   "source": [
    "asos = asos.loc[asos['#brand'].isin(list(asos['#brand'].value_counts()[asos['#brand'].value_counts() >10].index))]\n"
   ]
  },
  {
   "cell_type": "code",
   "execution_count": 140,
   "id": "7124e5b8",
   "metadata": {},
   "outputs": [],
   "source": [
    "asos = asos.loc[asos['#colour'].isin(list(asos['#colour'].value_counts()[asos['#colour'].value_counts() >10].index))]\n"
   ]
  },
  {
   "cell_type": "code",
   "execution_count": 141,
   "id": "f12057b7",
   "metadata": {},
   "outputs": [],
   "source": [
    "asos = asos.reset_index(drop=True)"
   ]
  },
  {
   "cell_type": "code",
   "execution_count": 142,
   "id": "5f27f937",
   "metadata": {},
   "outputs": [
    {
     "name": "stderr",
     "output_type": "stream",
     "text": [
      "/var/folders/75/lxv2pt816y3g7mh_b0zy07mw0000gn/T/ipykernel_4983/1736732128.py:2: FutureWarning: The default value of numeric_only in DataFrame.corr is deprecated. In a future version, it will default to False. Select only valid columns or specify the value of numeric_only to silence this warning.\n",
      "  correlations_matrix = asos.corr()\n"
     ]
    },
    {
     "data": {
      "image/png": "[encoded data removed]",
      "text/plain": [
       "<Figure size 640x480 with 2 Axes>"
      ]
     },
     "metadata": {},
     "output_type": "display_data"
    }
   ],
   "source": [
    "#clearer version\n",
    "\n",
    "correlations_matrix = asos.corr()\n",
    "sns.heatmap(correlations_matrix, annot=True)\n",
    "plt.show()"
   ]
  },
  {
   "cell_type": "markdown",
   "id": "99c2b06a",
   "metadata": {},
   "source": [
    " "
   ]
  },
  {
   "cell_type": "code",
   "execution_count": 143,
   "id": "6812a929",
   "metadata": {},
   "outputs": [
    {
     "name": "stderr",
     "output_type": "stream",
     "text": [
      "/var/folders/75/lxv2pt816y3g7mh_b0zy07mw0000gn/T/ipykernel_4983/1530991478.py:2: FutureWarning: The default value of numeric_only in DataFrame.corr is deprecated. In a future version, it will default to False. Select only valid columns or specify the value of numeric_only to silence this warning.\n",
      "  corr = asos.corr().loc[:,['potential_hashtag']]\n"
     ]
    },
    {
     "data": {
      "image/png": "[encoded data removed]",
      "text/plain": [
       "<Figure size 500x2500 with 2 Axes>"
      ]
     },
     "metadata": {},
     "output_type": "display_data"
    }
   ],
   "source": [
    "#Visualising the Correlation of columns in a vertical heatmap. This is useful for the number of features on the higher end of the spectrum\n",
    "\n",
    "corr = asos.corr().loc[:,['potential_hashtag']]\n",
    "fig, ax = plt.subplots(figsize=(5,25))\n",
    "ax = sns.heatmap(corr.sort_values(by=['potential_hashtag'],ascending=False), ax=ax,annot=True,cbar=True,cmap=\"Purples\")\n",
    "ax.set_xticklabels(ax.xaxis.get_ticklabels(), fontsize=10)\n",
    "ax.set_yticklabels(ax.yaxis.get_ticklabels(), fontsize=10)\n",
    "plt.show()"
   ]
  },
  {
   "cell_type": "markdown",
   "id": "753ac089",
   "metadata": {},
   "source": [
    "We see that, of course, ther's a big correlation between #1, #2 and potencial_hashtags, so we will NOT use #1 and #2"
   ]
  },
  {
   "cell_type": "code",
   "execution_count": 144,
   "id": "c914b404",
   "metadata": {},
   "outputs": [],
   "source": [
    "#sns.pairplot(asos)\n",
    "#plt.show()"
   ]
  },
  {
   "cell_type": "markdown",
   "id": "5257b320",
   "metadata": {},
   "source": [
    " "
   ]
  },
  {
   "cell_type": "markdown",
   "id": "bb2c0489",
   "metadata": {},
   "source": [
    "# Building the model"
   ]
  },
  {
   "cell_type": "markdown",
   "id": "563f7673",
   "metadata": {},
   "source": [
    "Our model will predict the **number of hashtags** on Instagram based on the features we have selected to train it. "
   ]
  },
  {
   "cell_type": "markdown",
   "id": "9055bbca",
   "metadata": {},
   "source": [
    "## Xy Split"
   ]
  },
  {
   "cell_type": "code",
   "execution_count": 145,
   "id": "412fa568",
   "metadata": {},
   "outputs": [],
   "source": [
    "y = asos[['potential_hashtag']]\n",
    "X = asos[['price', '#search', '#brand', 'categories' ,'#colour']]"
   ]
  },
  {
   "cell_type": "markdown",
   "id": "7d4ecbf7",
   "metadata": {},
   "source": [
    " "
   ]
  },
  {
   "cell_type": "markdown",
   "id": "c3184e65",
   "metadata": {},
   "source": [
    "## Train Test Split"
   ]
  },
  {
   "cell_type": "code",
   "execution_count": 146,
   "id": "67751418",
   "metadata": {},
   "outputs": [],
   "source": [
    "X_train, X_test, y_train, y_test = train_test_split(X, y, test_size=0.2, random_state=42) # default split ratio is 80/20"
   ]
  },
  {
   "cell_type": "markdown",
   "id": "4b31b449",
   "metadata": {},
   "source": [
    " "
   ]
  },
  {
   "cell_type": "markdown",
   "id": "e6b4ba8d",
   "metadata": {},
   "source": [
    "## Categorical, Numerical Split"
   ]
  },
  {
   "cell_type": "markdown",
   "id": "bd54b72b",
   "metadata": {},
   "source": [
    " "
   ]
  },
  {
   "cell_type": "code",
   "execution_count": 147,
   "id": "a982aca7",
   "metadata": {},
   "outputs": [],
   "source": [
    "#split train data\n",
    "X_train_numerical = X_train[['price']]\n",
    "X_train_categorical = X_train[['#search', '#brand', 'categories' ,'#colour']]\n",
    "\n",
    "\n",
    "#split test data\n",
    "X_test_numerical = X_test[['price']]\n",
    "X_test_categorical = X_test[['#search', '#brand', 'categories' ,'#colour']]\n"
   ]
  },
  {
   "cell_type": "markdown",
   "id": "7ec60d1f",
   "metadata": {},
   "source": [
    " "
   ]
  },
  {
   "cell_type": "markdown",
   "id": "0327117b",
   "metadata": {},
   "source": [
    "## Dealing with numericals"
   ]
  },
  {
   "cell_type": "markdown",
   "id": "b550f689",
   "metadata": {},
   "source": [
    " "
   ]
  },
  {
   "cell_type": "markdown",
   "id": "f661cc8c",
   "metadata": {},
   "source": [
    "### MinMax Scaler"
   ]
  },
  {
   "cell_type": "markdown",
   "id": "ccf892ff",
   "metadata": {},
   "source": [
    "- **Min-max scaler**\n",
    "    - squish the data so that the smallest value is 0 and the highest value is 1 (put the data on a scale from 0 to 1)"
   ]
  },
  {
   "cell_type": "code",
   "execution_count": 148,
   "id": "81d69dd8",
   "metadata": {},
   "outputs": [],
   "source": [
    "#Fit ONLY the train set.\n",
    "MinMaxtransformer = MinMaxScaler().fit(X_train_numerical)\n",
    "\n",
    "#Train\n",
    "X_train_normalized = MinMaxtransformer.transform(X_train_numerical)\n",
    "X_train_minmax = pd.DataFrame(X_train_normalized,columns=X_train_numerical.columns)\n",
    "#X_train_minmax.head()\n",
    "\n",
    "#Test\n",
    "X_test_normalized = MinMaxtransformer.transform(X_test_numerical)\n",
    "X_test_minmax = pd.DataFrame(X_test_normalized,columns=X_test_numerical.columns)\n",
    "#X_test_minmax.head()"
   ]
  },
  {
   "cell_type": "markdown",
   "id": "25fa7357",
   "metadata": {},
   "source": [
    "*Use Min-max scaler:\n",
    "\n",
    "- When you want features to be between 0 and 1\n",
    "- For algorithms that assume data is within a particular range (Neural networks for example)\n",
    "- When data is not normal\n",
    "- For computer vision problems\n",
    "- When you want to preserve relative distances between points"
   ]
  },
  {
   "cell_type": "markdown",
   "id": "ca6be980",
   "metadata": {},
   "source": [
    " "
   ]
  },
  {
   "cell_type": "markdown",
   "id": "aa66b32f",
   "metadata": {},
   "source": [
    "## Dealing with categorical data"
   ]
  },
  {
   "cell_type": "markdown",
   "id": "dd5f92e4",
   "metadata": {},
   "source": [
    " "
   ]
  },
  {
   "cell_type": "markdown",
   "id": "20d88da6",
   "metadata": {},
   "source": [
    "*When considering categorical columns, we need to understand how we will be encoding them.\n",
    "\n",
    "- If the unique values in our data is hierarchical, we need to **Ordinally** encode them.\\ \n",
    "\n",
    "- If, however they are \"Yes/No\" values, they will need to be **OneHot encoded**. "
   ]
  },
  {
   "cell_type": "markdown",
   "id": "4b02ab24",
   "metadata": {},
   "source": [
    " "
   ]
  },
  {
   "cell_type": "markdown",
   "id": "55a1f75c",
   "metadata": {},
   "source": [
    "### OneHot Encoding"
   ]
  },
  {
   "cell_type": "code",
   "execution_count": 149,
   "id": "25a027fc",
   "metadata": {},
   "outputs": [],
   "source": [
    "#Fit ONLY the train set. \n",
    "encoder = OneHotEncoder(drop='first').fit(X_train_categorical)\n",
    "\n",
    "\n",
    "#Train\n",
    "encoded_for_p_train = encoder.transform(X_train_categorical).toarray()\n",
    "cols = encoder.get_feature_names_out(input_features=X_train_categorical.columns)\n",
    "X_train_ohe = pd.DataFrame(encoded_for_p_train, columns=cols)\n",
    "#X_train_ohe.head()\n",
    "\n",
    "\n",
    "#Test\n",
    "encoded_for_p_test = encoder.transform(X_test_categorical).toarray()\n",
    "cols = encoder.get_feature_names_out(input_features=X_test_categorical.columns)\n",
    "X_test_ohe = pd.DataFrame(encoded_for_p_test, columns=cols)\n",
    "#X_test_ohe.head()"
   ]
  },
  {
   "cell_type": "markdown",
   "id": "ef5a47ca",
   "metadata": {},
   "source": [
    "### MinMaxscaler"
   ]
  },
  {
   "cell_type": "code",
   "execution_count": 150,
   "id": "9055e868",
   "metadata": {},
   "outputs": [],
   "source": [
    "###Reset Indices###\n",
    "X_train_minmax = X_train_minmax.reset_index(drop = True)\n",
    "X_test_minmax = X_test_minmax.reset_index(drop = True)\n",
    "X_train_ohe = X_train_ohe.reset_index(drop = True)\n",
    "X_test_ohe = X_test_ohe.reset_index(drop = True)\n",
    "\n",
    "\n",
    "#####Concat#####\n",
    "\n",
    "#Train\n",
    "X_train_scaled = pd.concat([X_train_minmax,X_train_ohe], axis = 1)\n",
    "\n",
    "#Test\n",
    "X_test_scaled = pd.concat([X_test_minmax,X_test_ohe], axis = 1)"
   ]
  },
  {
   "cell_type": "markdown",
   "id": "245faed6",
   "metadata": {},
   "source": [
    "## Reset the Incides of our y axes, so that they correspond to the X_train_scaled and X_test_scaled"
   ]
  },
  {
   "cell_type": "code",
   "execution_count": 151,
   "id": "c160e57f",
   "metadata": {},
   "outputs": [],
   "source": [
    "y_train = y_train.reset_index(drop = True)\n",
    "y_test = y_test.reset_index(drop = True)"
   ]
  },
  {
   "cell_type": "markdown",
   "id": "e9418419",
   "metadata": {},
   "source": [
    "## Fit Model"
   ]
  },
  {
   "cell_type": "markdown",
   "id": "b26b0a62",
   "metadata": {},
   "source": [
    " "
   ]
  },
  {
   "cell_type": "markdown",
   "id": "ed697a0d",
   "metadata": {},
   "source": [
    "Now we are going to try 3 different regression models: DecisionTreeRegressor, LinearRegression and KNeighborsRegressor to see wich one gives us the best results"
   ]
  },
  {
   "cell_type": "code",
   "execution_count": 152,
   "id": "a26b2ecd",
   "metadata": {},
   "outputs": [
    {
     "name": "stdout",
     "output_type": "stream",
     "text": [
      "{'Decision Tree Regressor': 0.9999917297063767, 'Linear Regression': 0.6299803035591411, 'KNN': 0.9599988735503799}\n"
     ]
    }
   ],
   "source": [
    "model1 = DecisionTreeRegressor()\n",
    "model2 = LinearRegression()\n",
    "model3 = KNeighborsRegressor()\n",
    "\n",
    "model_pipeline = [model1, model2, model3]\n",
    "model_names = ['Decision Tree Regressor', 'Linear Regression', 'KNN']\n",
    "\n",
    "scores = {}\n",
    "\n",
    "for model, model_name in zip(model_pipeline, model_names):\n",
    "    mean_score = np.mean(cross_val_score(model, X_train_scaled, y_train, cv=5))\n",
    "    scores[model_name] = mean_score\n",
    "print(scores)"
   ]
  },
  {
   "cell_type": "markdown",
   "id": "6306ea4e",
   "metadata": {},
   "source": [
    "The results are pretty good in general, but the best one is DecisionTreeRegressor, so we will use that one"
   ]
  },
  {
   "cell_type": "markdown",
   "id": "602bddec",
   "metadata": {},
   "source": [
    "# Decision Tree Regressor"
   ]
  },
  {
   "cell_type": "code",
   "execution_count": 153,
   "id": "c40e2203",
   "metadata": {},
   "outputs": [],
   "source": [
    "DT = DecisionTreeRegressor().fit(X_train_scaled, y_train)"
   ]
  },
  {
   "cell_type": "markdown",
   "id": "84352e16",
   "metadata": {},
   "source": [
    "# Validating the model"
   ]
  },
  {
   "cell_type": "code",
   "execution_count": 154,
   "id": "917f6e8e",
   "metadata": {},
   "outputs": [
    {
     "data": {
      "text/plain": [
       "0.9999999999999986"
      ]
     },
     "execution_count": 154,
     "metadata": {},
     "output_type": "execute_result"
    }
   ],
   "source": [
    "predictions_train = DT.predict(X_train_scaled)\n",
    "r2_score(y_train,predictions_train)"
   ]
  },
  {
   "cell_type": "code",
   "execution_count": 155,
   "id": "e2ea136c",
   "metadata": {},
   "outputs": [
    {
     "data": {
      "text/plain": [
       "0.9999833439314587"
      ]
     },
     "execution_count": 155,
     "metadata": {},
     "output_type": "execute_result"
    }
   ],
   "source": [
    "predictions_test = DT.predict(X_test_scaled)\n",
    "r2_score(y_test,predictions_test)"
   ]
  },
  {
   "cell_type": "code",
   "execution_count": 156,
   "id": "82a16237",
   "metadata": {},
   "outputs": [
    {
     "data": {
      "text/plain": [
       "34784505.46752308"
      ]
     },
     "execution_count": 156,
     "metadata": {},
     "output_type": "execute_result"
    }
   ],
   "source": [
    "#MSE\n",
    "mse = mean_squared_error(y_test,predictions_test)\n",
    "mse"
   ]
  },
  {
   "cell_type": "code",
   "execution_count": 157,
   "id": "4435d9dd",
   "metadata": {},
   "outputs": [
    {
     "data": {
      "text/plain": [
       "5897.8390506628"
      ]
     },
     "execution_count": 157,
     "metadata": {},
     "output_type": "execute_result"
    }
   ],
   "source": [
    "#RMSE\n",
    "\n",
    "rmse = np.sqrt(mean_squared_error(y_test,predictions_test))\n",
    "rmse"
   ]
  },
  {
   "cell_type": "markdown",
   "id": "1224e20e",
   "metadata": {},
   "source": [
    "Our validation has gone very well. It seems that our model scores well on different meters. But just to be sure, let's save it and test it with unseen data on a new notebook (test machine regression)."
   ]
  },
  {
   "cell_type": "markdown",
   "id": "087fb46a",
   "metadata": {},
   "source": [
    "# Pickling model and scalers"
   ]
  },
  {
   "cell_type": "code",
   "execution_count": 158,
   "id": "19800013",
   "metadata": {},
   "outputs": [],
   "source": [
    "#Saving the model to a file using pickle\n",
    "\n",
    "pickle.dump(DT, open('models/regression_model.pkl','wb'))"
   ]
  },
  {
   "cell_type": "code",
   "execution_count": 159,
   "id": "c21dd31e",
   "metadata": {},
   "outputs": [],
   "source": [
    "#Saving the OHE scale to a file using pickle\n",
    "\n",
    "pickle.dump(encoder, open('encoders/regression_ohe.pkl','wb'))"
   ]
  },
  {
   "cell_type": "code",
   "execution_count": 160,
   "id": "862ac253",
   "metadata": {},
   "outputs": [],
   "source": [
    "#Saving the minmax scale to a file using pickle\n",
    "\n",
    "pickle.dump(MinMaxtransformer, open('transformers/regression_minmax.pkl','wb'))"
   ]
  },
  {
   "cell_type": "code",
   "execution_count": null,
   "id": "ab51ebf7",
   "metadata": {},
   "outputs": [],
   "source": []
  }
 ],
 "metadata": {
  "kernelspec": {
   "display_name": "Python 3 (ipykernel)",
   "language": "python",
   "name": "python3"
  },
  "language_info": {
   "codemirror_mode": {
    "name": "ipython",
    "version": 3
   },
   "file_extension": ".py",
   "mimetype": "text/x-python",
   "name": "python",
   "nbconvert_exporter": "python",
   "pygments_lexer": "ipython3",
   "version": "3.10.9"
  }
 },
 "nbformat": 4,
 "nbformat_minor": 5
}
