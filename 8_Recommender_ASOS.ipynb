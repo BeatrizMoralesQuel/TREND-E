{
 "cells": [
  {
   "cell_type": "markdown",
   "id": "061bcaa1",
   "metadata": {},
   "source": [
    "#####################\n",
    "\n",
    "We are going to create a \"trendy\" product recommender to have a guide on what ASOS should produce or have in their online shop, which will tell us: \n",
    "\n",
    "a) If our product is \"trendy\" on Instagram, great! Continue with that selection.\n",
    "\n",
    "b) If our product is not \"trendy\" on Instagram, it will point us to other similar products that are more trendy.\n",
    "\n",
    "#####################"
   ]
  },
  {
   "cell_type": "code",
   "execution_count": 4,
   "id": "49bfede7",
   "metadata": {},
   "outputs": [],
   "source": [
    "def ASOS_trendy():\n",
    "\n",
    "    ######## Import libraries ########\n",
    "    import pandas as pd\n",
    "    import numpy as np\n",
    "    from random import randint\n",
    "    import pickle\n",
    "   \n",
    "    ######## Import data ######## \n",
    "    \n",
    "    asos = pd.read_csv('data/asos_clusters.csv')\n",
    "    \n",
    "    ######## User input ######## \n",
    "    producttype = input('Product Type: ')\n",
    "    brand  = input('Brand: ')\n",
    "    colour = input('Colour: ')\n",
    "    price  = input('Price: £')\n",
    "     \n",
    "    \n",
    "    \n",
    "    ######## Create a DF ######## \n",
    "    input_df = pd.DataFrame({'price': [price],'#search': [producttype], '#brand': [brand] ,'#colour': [colour]}).reset_index(drop=True)\n",
    "    \n",
    "    dict_cat = dict(zip(asos['#search'],asos['categories']))\n",
    "    input_df['categories'] = dict_cat[producttype]\n",
    "    input_df = input_df[['price', '#search', '#brand', 'categories' ,'#colour']]\n",
    "    \n",
    "    input_df['price'] = input_df['price'].astype(float)\n",
    "    \n",
    "    ######### Loading the model and scalers from the file using pickle ########\n",
    "\n",
    "    model = pickle.load(open('models/regression_model.pkl','rb'))\n",
    "    model_ohe = pickle.load(open('encoders/regression_ohe.pkl','rb'))\n",
    "    model_minmax = pickle.load(open('transformers/regression_minmax.pkl','rb'))\n",
    "    \n",
    "    ###### USING OUR MODEL ######\n",
    "\n",
    "    X_num_r = input_df[['price']]\n",
    "    X_cat_r = input_df.drop(columns=['price'],axis =1)\n",
    "    \n",
    "    X_num_r_tf = model_minmax.transform(X_num_r)\n",
    "    X_num_r_tf = pd.DataFrame(X_num_r_tf,columns=X_num_r.columns)\n",
    "    \n",
    "    X_cat_r_ohe = model_ohe.transform(X_cat_r).toarray()\n",
    "    cols_r = model_ohe.get_feature_names_out(input_features=X_cat_r.columns)\n",
    "    X_cat_r_t = pd.DataFrame(X_cat_r_ohe, columns=cols_r)\n",
    "    \n",
    "    #Concat \n",
    "\n",
    "    X_r_treated = pd.concat([X_num_r_tf, X_cat_r_t], axis = 1)\n",
    "    \n",
    "    ##### PREDICT ####\n",
    "\n",
    "    \n",
    "\n",
    "    if model.predict(X_r_treated)[0] > np.quantile(asos['potential_hashtag'], q=0.65):\n",
    "        return\"That's really trendy!\"\n",
    "    else:\n",
    "        model = pickle.load(open('models/clustering_model.pkl','rb'))\n",
    "    \n",
    "    \n",
    "        input_df['cluster'] = model.predict(X_r_treated)\n",
    "    \n",
    "    \n",
    "        pd.set_option('display.max_colwidth', None)\n",
    "        return\"What you input is not very trendy, we found a similar, more trendy product. Here it is: https://www.google.com/search?q=\"+asos[(asos['cluster'] == model.predict(X_r_treated)[0])&(asos['trendy'] == 'High')].reset_index().loc[[randint(0,len(asos[(asos['cluster'] == model.predict(X_r_treated)[0])&(asos['trendy'] == 'High')]))]]['name'].str.replace(' ','%20').to_string(index = False)\n",
    "        "
   ]
  },
  {
   "cell_type": "code",
   "execution_count": 6,
   "id": "47bc711c",
   "metadata": {},
   "outputs": [
    {
     "name": "stdout",
     "output_type": "stream",
     "text": [
      "Price: £30\n",
      "Product Type: dress\n",
      "Brand: mango\n",
      "Colour: leopardprint\n"
     ]
    },
    {
     "data": {
      "text/plain": [
       "'What you input is not very trendy, we found a similar, more trendy product. Here it is: https://www.google.com/search?q=Monki%20poplin%20maxi%20shirt%20dress%20in%20orange'"
      ]
     },
     "execution_count": 6,
     "metadata": {},
     "output_type": "execute_result"
    }
   ],
   "source": [
    "ASOS_trendy()"
   ]
  },
  {
   "cell_type": "code",
   "execution_count": null,
   "id": "a0410811",
   "metadata": {},
   "outputs": [],
   "source": [
    "\n",
    "\n",
    "\n",
    "Price: £30\n",
    "Product Type: dress\n",
    "Brand: mango\n",
    "Colour: leopardprint"
   ]
  }
 ],
 "metadata": {
  "kernelspec": {
   "display_name": "Python 3 (ipykernel)",
   "language": "python",
   "name": "python3"
  },
  "language_info": {
   "codemirror_mode": {
    "name": "ipython",
    "version": 3
   },
   "file_extension": ".py",
   "mimetype": "text/x-python",
   "name": "python",
   "nbconvert_exporter": "python",
   "pygments_lexer": "ipython3",
   "version": "3.10.9"
  }
 },
 "nbformat": 4,
 "nbformat_minor": 5
}
